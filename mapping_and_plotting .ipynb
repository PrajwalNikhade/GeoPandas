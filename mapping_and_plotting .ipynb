# Geospatial Analysis of Chicago: Population, Groceries, and Crime

This notebook explores various aspects of the city of Chicago using geospatial data. We will be working with datasets on community area populations, grocery store locations, and crime statistics. We'll use the `geopandas` library to perform spatial analysis and create insightful visualizations.

## 1. Setting up the Environment and Loading Data

import geopandas as gpd
import geodatasets
import pandas as pd
import matplotlib.pyplot as plt
import mapclassify
import folium

We load three datasets:
* **Chicago Community Areas:** Polygon data representing the 77 community areas of Chicago, including population data from 2000 and 2010.
* **Grocery Stores:** Point data showing the locations of grocery stores in Chicago.
The data is loaded from the `geodatasets` library.

chicago = gpd.read_file(geodatasets.get_path("geoda.chicago_commpop"))
groceries = gpd.read_file(geodatasets.get_path("geoda.groceries"))

Let's take a look at the first few rows of the `chicago` GeoDataFrame.

chicago.head()

## 2. Basic Plotting

Let's start by plotting the boundaries of the Chicago community areas.

chicago.plot(figsize=(10, 10)).set_title('Chicago Community Areas')

## 3. Choropleth Maps

A choropleth map is a type of thematic map in which areas are shaded or patterned in proportion to a statistical variable that represents an aggregate summary of a geographic characteristic within each area, such as population density or per-capita income.

Let's create a choropleth map of the 2010 population in Chicago.

chicago.plot(column='POP2010', cmap='viridis', figsize=(10, 10), legend=True, 
             legend_kwds={'label': 'Population in 2010', 'orientation': 'horizontal'})
             .set_title('Population in Chicago Community Areas (2010)')

We can use different classification schemes to create more informative choropleth maps. The `mapclassify` library provides several classification schemes. Let's use the 'Quantiles' scheme to divide the data into equal-sized groups.

chicago.plot(column='POP2010', cmap='YlOrBr', scheme='NaturalBreaks', k=5, figsize=(10, 10), legend=True,
             legend_kwds={'title': 'Population Natural Breaks'})
             .set_title('Population in Chicago Community Areas (2010) - Natural Breaks')

## 4. Plotting Points and Polygons Together

We can plot the grocery store locations on top of the community area boundaries. First, we need to make sure both GeoDataFrames are in the same Coordinate Reference System (CRS).

chicago = chicago.to_crs(epsg=4326)
groceries = groceries.to_crs(epsg=4326)

base = chicago.plot(color='white', edgecolor='black', figsize=(10, 10))

groceries.plot(ax=base, marker='o', color='red', markersize=5);
plt.title('Grocery Store Locations in Chicago')

## 5. Interactive Maps with Folium

`folium` is a powerful Python library that helps you create several types of Leaflet maps. The maps are are interactive, so you can zoom in and out, and click on elements to get more information.

m = folium.Map(location=[41.8781, -87.6298], zoom_start=10)
folium.Choropleth(
    geo_data=chicago,
    name='choropleth',
    data=chicago,
    columns=['community', 'POP2010'],
    key_on='feature.properties.community',
    fill_color='YlGn',
    fill_opacity=0.7,
    line_opacity=0.2,
    legend_name='Population in 2010'
).add_to(m)

for _, r in groceries.iterrows():
    folium.Marker(location=[r.geometry.y, r.geometry.x], popup=r['name']).add_to(m)
    
folium.LayerControl().add_to(m)
m

## 6. Analyzing Crime Data

To analyze crime data, you first need to download it from the [City of Chicago Data Portal](https://data.cityofchicago.org/Public-Safety/Crimes-2001-to-Present/ijzp-q8t2). Once you have downloaded the `Crimes_-_2001_to_Present.csv` file, place it in the same directory as this notebook.

Then, you can load the data and perform the analysis as shown in the following cells.

# Load the crime data
# crime_data = pd.read_csv('Crimes_-_2001_to_Present.csv')

# Convert the 'Date' column to datetime objects
# crime_data['Date'] = pd.to_datetime(crime_data['Date'], format='%m/%d/%Y %I:%M:%S %p')

# Extract the year and month from the 'Date' column
# crime_data['Year'] = crime_data['Date'].dt.year
# crime_data['Month'] = crime_data['Date'].dt.month

# Group the data by community area and count the number of crimes
# crime_by_community = crime_data.groupby('Community Area').size().reset_index(name='crime_count')

# Merge the crime data with the chicago GeoDataFrame
# chicago_crime = chicago.merge(crime_by_community, left_on='area_num_1', right_on='Community Area')

# Create a choropleth map of crime rates
# chicago_crime.plot(column='crime_count', cmap='Reds', figsize=(10, 10), legend=True, 
#                    legend_kwds={'label': 'Number of Crimes', 'orientation': 'horizontal'})
#                    .set_title('Total Number of Crimes in Chicago Community Areas (2001-Present)')

## 7. Conclusion

This notebook has demonstrated how to perform geospatial analysis using Python. We have learned how to:
* Load and plot geospatial data.
* Create choropleth maps to visualize data distributions.
* Plot points and polygons together.
* Create interactive maps with `folium`.
* Merge geospatial data with other datasets to perform more complex analysis.

This is just a starting point for what you can do with geospatial data. There are many other libraries and techniques that you can use to explore and analyze geospatial data.