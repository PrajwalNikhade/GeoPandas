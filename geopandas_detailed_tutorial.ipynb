{
 "cells": [
  {
   "cell_type": "markdown",
   "id": "720b9d6f",
   "metadata": {},
   "source": [
    "# Comprehensive GeoPandas Tutorial with geodatasets\n",
    "This notebook provides a **detailed introduction to spatial data analysis** using GeoPandas. We will explore different operations with rich explanations and visualizations.\n",
    "\n",
    "### Topics Covered:\n",
    "1. Introduction to GeoPandas & geodatasets\n",
    "2. Loading and exploring datasets\n",
    "3. Indexing and attribute selection\n",
    "4. Dissolve operations (aggregation)\n",
    "5. Overlay operations (intersection, union, difference)\n",
    "6. Geometric manipulations (buffer, centroid, boundary, area, length)\n",
    "7. Mapping and advanced visualization\n",
    "8. Practical applications in geospatial analysis"
   ]
  },
  {
   "cell_type": "markdown",
   "id": "5b041bcd",
   "metadata": {},
   "source": [
    "## 1. Introduction\n",
    "### What is GeoPandas?\n",
    "GeoPandas is an open-source Python library for working with geospatial data. It extends the popular `pandas` library to handle geometric operations on spatial data types.\n",
    "\n",
    "### What is geodatasets?\n",
    "`geodatasets` provides easy access to well-known geospatial datasets such as Natural Earth, useful for testing and learning.\n",
    "\n",
    "### Why use GeoPandas?\n",
    "- Easy handling of **vector data** (points, lines, polygons)\n",
    "- Integration with **matplotlib** for plotting\n",
    "- Support for spatial operations (overlay, buffering, dissolving, joins)\n",
    "- Works seamlessly with **Shapely** and **Fiona**"
   ]
  },
  {
   "cell_type": "markdown",
   "id": "3d71fa86",
   "metadata": {},
   "source": [
    "## 2. Importing Libraries and Dataset"
   ]
  },
  {
   "cell_type": "code",
   "execution_count": null,
   "id": "2d31519d",
   "metadata": {},
   "outputs": [],
   "source": [
    "import geopandas as gpd\n",
    "import matplotlib.pyplot as plt\n",
    "import geodatasets\n",
    "from shapely.geometry import Point\n",
    "\n",
    "world = gpd.read_file(geodatasets.get_path('naturalearth_lowres'))\n",
    "world.head()"
   ]
  },
  {
   "cell_type": "code",
   "execution_count": null,
   "id": "87b3b78f",
   "metadata": {},
   "outputs": [],
   "source": [
    "world.plot(figsize=(12,6), color='lightblue', edgecolor='black')\n",
    "plt.title('World Map - Natural Earth Low Resolution')\n",
    "plt.show()"
   ]
  },
  {
   "cell_type": "markdown",
   "id": "a8700426",
   "metadata": {},
   "source": [
    "## 3. Indexing and Attribute Selection\n",
    "GeoPandas supports indexing similar to pandas, making it easy to filter and subset data.\n",
    "\n",
    "**Examples:**\n",
    "- Select a continent\n",
    "- Select specific countries\n",
    "- Conditional filtering (e.g., population greater than a threshold)"
   ]
  },
  {
   "cell_type": "code",
   "execution_count": null,
   "id": "e2a2bd86",
   "metadata": {},
   "outputs": [],
   "source": [
    "asia = world[world['continent'] == 'Asia']\n",
    "asia.plot(figsize=(8,6), color='lightgreen', edgecolor='black')\n",
    "plt.title('Countries in Asia')\n",
    "plt.show()"
   ]
  },
  {
   "cell_type": "code",
   "execution_count": null,
   "id": "a068d631",
   "metadata": {},
   "outputs": [],
   "source": [
    "high_pop = world[world['pop_est'] > 200_000_000]\n",
    "high_pop.plot(figsize=(10,6), color='orange', edgecolor='black')\n",
    "plt.title('Countries with Population > 200 Million')\n",
    "plt.show()"
   ]
  },
  {
   "cell_type": "markdown",
   "id": "c680ac53",
   "metadata": {},
   "source": [
    "## 4. Dissolve Operation\n",
    "The `dissolve()` method merges geometries based on a column.\n",
    "\n",
    "### Example: Dissolve by continent"
   ]
  },
  {
   "cell_type": "code",
   "execution_count": null,
   "id": "4af4b4d3",
   "metadata": {},
   "outputs": [],
   "source": [
    "continents = world.dissolve(by='continent')\n",
    "continents.plot(figsize=(12,6), cmap='Set3', edgecolor='black')\n",
    "plt.title('Dissolved Continents')\n",
    "plt.show()"
   ]
  },
  {
   "cell_type": "markdown",
   "id": "c35cbc50",
   "metadata": {},
   "source": [
    "## 5. Overlay Operations\n",
    "Overlay operations combine multiple GeoDataFrames.\n",
    "\n",
    "**Common types:**\n",
    "- `intersection` → common area between two layers\n",
    "- `union` → all areas from both layers\n",
    "- `difference` → subtract one layer from another"
   ]
  },
  {
   "cell_type": "code",
   "execution_count": null,
   "id": "03a4e759",
   "metadata": {},
   "outputs": [],
   "source": [
    "land = gpd.read_file(geodatasets.get_path('naturalearth.land'))\n",
    "intersection = gpd.overlay(world, land, how='intersection')\n",
    "intersection.plot(figsize=(12,6), color='salmon', edgecolor='black')\n",
    "plt.title('Intersection of Countries and Landmass')\n",
    "plt.show()"
   ]
  },
  {
   "cell_type": "markdown",
   "id": "ac2e1bad",
   "metadata": {},
   "source": [
    "## 6. Geometric Manipulations\n",
    "GeoSeries provides many geometric methods:\n",
    "\n",
    "- `.area` → surface area of polygons\n",
    "- `.length` → perimeter of polygons\n",
    "- `.centroid` → geometric center\n",
    "- `.boundary` → outlines\n",
    "- `.buffer(distance)` → expands geometries"
   ]
  },
  {
   "cell_type": "code",
   "execution_count": null,
   "id": "3799a32a",
   "metadata": {},
   "outputs": [],
   "source": [
    "india = world[world['name'] == 'India']\n",
    "print('Area:', india.area.values)\n",
    "print('Perimeter:', india.length.values)"
   ]
  },
  {
   "cell_type": "code",
   "execution_count": null,
   "id": "c9da1ad6",
   "metadata": {},
   "outputs": [],
   "source": [
    "fig, axes = plt.subplots(1, 3, figsize=(15,5))\n",
    "\n",
    "india.boundary.plot(ax=axes[0], color='blue')\n",
    "axes[0].set_title('Boundary')\n",
    "\n",
    "india.centroid.plot(ax=axes[1], color='red')\n",
    "axes[1].set_title('Centroid')\n",
    "\n",
    "india.buffer(5).plot(ax=axes[2], color='lightcoral')\n",
    "axes[2].set_title('Buffered Geometry')\n",
    "\n",
    "plt.show()"
   ]
  },
  {
   "cell_type": "markdown",
   "id": "90a6f867",
   "metadata": {},
   "source": [
    "## 7. Mapping and Advanced Visualization\n",
    "GeoPandas integrates with **matplotlib** and supports advanced mapping options.\n",
    "\n",
    "### Classification schemes:\n",
    "- `quantiles`\n",
    "- `equal_interval`\n",
    "- `natural_breaks`\n",
    "\n",
    "### Example: Population visualization"
   ]
  },
  {
   "cell_type": "code",
   "execution_count": null,
   "id": "524ad3c9",
   "metadata": {},
   "outputs": [],
   "source": [
    "world.plot(column='pop_est', cmap='YlOrRd', scheme='quantiles', legend=True, figsize=(12,6))\n",
    "plt.title('World Population (Quantile Classification)')\n",
    "plt.show()"
   ]
  },
  {
   "cell_type": "markdown",
   "id": "7e57ffa8",
   "metadata": {},
   "source": [
    "## 8. Practical Applications\n",
    "With these tools, we can perform tasks like:\n",
    "\n",
    "- Identifying regions with high population density\n",
    "- Visualizing political or environmental boundaries\n",
    "- Combining multiple spatial layers for analysis\n",
    "- Creating custom geospatial dashboards"
   ]
  },
  {
   "cell_type": "markdown",
   "id": "c7a10447",
   "metadata": {},
   "source": [
    "## Conclusion\n",
    "We explored **GeoPandas** with built-in datasets from `geodatasets`. Covered topics include:\n",
    "- Importing and visualizing geospatial data\n",
    "- Indexing and attribute filtering\n",
    "- Dissolve and overlay operations\n",
    "- Geometric manipulations (area, length, buffer, centroid)\n",
    "- Advanced mapping techniques\n",
    "\n",
    "This knowledge provides a foundation for performing geospatial analysis, map creation, and spatial data science applications."
   ]
  }
 ],
 "metadata": {},
 "nbformat": 4,
 "nbformat_minor": 5
}
